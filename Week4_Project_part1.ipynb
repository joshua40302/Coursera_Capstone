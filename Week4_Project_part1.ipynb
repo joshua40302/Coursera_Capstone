{
 "cells": [
  {
   "cell_type": "markdown",
   "metadata": {},
   "source": [
    "### Introduction"
   ]
  },
  {
   "cell_type": "markdown",
   "metadata": {},
   "source": [
    "New York City is the largest city in the United States, which has a long history and a lot of international immigrants. If one person is new to New York City, he/she may want to find the best restaurant to have a great experience in this beuautiful city. But how can we find the best restaurant and where is it?\n",
    "\n",
    "This final project will foucs on exploring the best locations for Chinese restaurants throughout the city of New York. Also, as with any business, if you are an investor, to open a new restaurant will need a lot of considerations and is more complicated than they think. Especially, the location of the restaurant is one of the most important factors that will affect whether it will succeed or not. Hence, this project will try to answer the questions:\n",
    "1. Where should the investor open a Chinese Restaurant? \n",
    "2. Where should I go If I want great Chinese food?"
   ]
  },
  {
   "cell_type": "markdown",
   "metadata": {},
   "source": [
    "### Data"
   ]
  },
  {
   "cell_type": "markdown",
   "metadata": {},
   "source": [
    "In order to answer the above questions, we will need the data on New York City neighborhoods, boroughs to include boundaries, latitude, longitude, restaurants, and restaurant ratings and tips. \n",
    "\n",
    "New York City data containing the neighborhoods and boroughs, latitudes, and longitudes will be obtained from the data source: https://cocl.us/new_york_dataset\n",
    "\n",
    "Other data related to locations and quality of Chinese restaurants will be obtained via the FourSquare API."
   ]
  },
  {
   "cell_type": "markdown",
   "metadata": {},
   "source": [
    "### Methodology\n"
   ]
  },
  {
   "cell_type": "markdown",
   "metadata": {},
   "source": [
    "\n",
    "• Data will be collected from https://cocl.us/new_york_dataset and cleaned and processed into a dataframe.\n",
    "\n",
    "• Utilize FourSquare with venues and then filtered by Chinese restaurants. Ratings, tips, and likes by users will be counted and added to the dataframe.\n",
    "\n",
    "• Data will be sorted based on rankings.\n",
    "\n",
    "• Finally, the data be will be visually assessed using graphing from Python libraries."
   ]
  },
  {
   "cell_type": "markdown",
   "metadata": {},
   "source": [
    "### Problem "
   ]
  },
  {
   "cell_type": "markdown",
   "metadata": {},
   "source": [
    "1. What is / are the best location(s) for Chinese restaurants in New York City?\n",
    "2. In what Neighborhood and/or borough should the investor open a Chinese restaurants to have the best chance of being successful?\n",
    "3. Where would I go in New York City to have the best Chinese food?"
   ]
  },
  {
   "cell_type": "code",
   "execution_count": null,
   "metadata": {},
   "outputs": [],
   "source": []
  }
 ],
 "metadata": {
  "kernelspec": {
   "display_name": "Python 3",
   "language": "python",
   "name": "python3"
  },
  "language_info": {
   "codemirror_mode": {
    "name": "ipython",
    "version": 3
   },
   "file_extension": ".py",
   "mimetype": "text/x-python",
   "name": "python",
   "nbconvert_exporter": "python",
   "pygments_lexer": "ipython3",
   "version": "3.7.6"
  }
 },
 "nbformat": 4,
 "nbformat_minor": 4
}
